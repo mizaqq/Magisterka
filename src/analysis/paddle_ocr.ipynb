{
 "cells": [
  {
   "cell_type": "code",
   "execution_count": null,
   "metadata": {},
   "outputs": [
    {
     "name": "stdout",
     "output_type": "stream",
     "text": [
      "[2025/03/23 20:40:08] ppocr DEBUG: Namespace(help='==SUPPRESS==', use_gpu=True, use_xpu=False, use_npu=False, use_mlu=False, use_gcu=False, ir_optim=True, use_tensorrt=False, min_subgraph_size=15, precision='fp32', gpu_mem=500, gpu_id=0, image_dir=None, page_num=0, det_algorithm='DB', det_model_dir='/home/miza/.paddleocr/whl/det/en/en_PP-OCRv3_det_infer', det_limit_side_len=960, det_limit_type='max', det_box_type='quad', det_db_thresh=0.3, det_db_box_thresh=0.3, det_db_unclip_ratio=2.5, max_batch_size=10, use_dilation=False, det_db_score_mode='fast', det_east_score_thresh=0.8, det_east_cover_thresh=0.1, det_east_nms_thresh=0.2, det_sast_score_thresh=0.5, det_sast_nms_thresh=0.2, det_pse_thresh=0, det_pse_box_thresh=0.85, det_pse_min_area=16, det_pse_scale=1, scales=[8, 16, 32], alpha=1.0, beta=1.0, fourier_degree=5, rec_algorithm='CRNN', rec_model_dir='/home/miza/.paddleocr/whl/rec/latin/latin_PP-OCRv3_rec_infer', rec_image_inverse=True, rec_image_shape='3, 48, 320', rec_batch_num=6, max_text_length=25, rec_char_dict_path='/home/miza/Magisterka/.venv/lib/python3.12/site-packages/paddleocr/ppocr/utils/dict/latin_dict.txt', use_space_char=True, vis_font_path='./doc/fonts/simfang.ttf', drop_score=0.5, e2e_algorithm='PGNet', e2e_model_dir=None, e2e_limit_side_len=768, e2e_limit_type='max', e2e_pgnet_score_thresh=0.5, e2e_char_dict_path='./ppocr/utils/ic15_dict.txt', e2e_pgnet_valid_set='totaltext', e2e_pgnet_mode='fast', use_angle_cls=True, cls_model_dir='/home/miza/.paddleocr/whl/cls/ch_ppocr_mobile_v2.0_cls_infer', cls_image_shape='3, 48, 192', label_list=['0', '180'], cls_batch_num=6, cls_thresh=0.9, enable_mkldnn=False, cpu_threads=10, use_pdserving=False, warmup=False, sr_model_dir=None, sr_image_shape='3, 32, 128', sr_batch_num=1, draw_img_save_dir='./inference_results', save_crop_res=False, crop_res_save_dir='./output', use_mp=False, total_process_num=1, process_id=0, benchmark=False, save_log_path='./log_output/', show_log=True, use_onnx=False, onnx_providers=False, onnx_sess_options=False, return_word_box=False, output='./output', table_max_len=488, table_algorithm='TableAttn', table_model_dir=None, merge_no_span_structure=True, table_char_dict_path=None, formula_algorithm='LaTeXOCR', formula_model_dir=None, formula_char_dict_path=None, formula_batch_num=1, layout_model_dir=None, layout_dict_path=None, layout_score_threshold=0.5, layout_nms_threshold=0.5, kie_algorithm='LayoutXLM', ser_model_dir=None, re_model_dir=None, use_visual_backbone=True, ser_dict_path='../train_data/XFUND/class_list_xfun.txt', ocr_order_method=None, mode='structure', image_orientation=False, layout=True, table=True, formula=False, ocr=True, recovery=False, recovery_to_markdown=False, use_pdf2docx_api=False, invert=False, binarize=False, alphacolor=(255, 255, 255), lang='pl', det=True, rec=True, type='ocr', savefile=False, ocr_version='PP-OCRv4', structure_version='PP-StructureV2')\n",
      "[2025/03/23 20:40:08] ppocr WARNING: The first GPU is used for inference by default, GPU ID: 0\n",
      "[2025/03/23 20:40:09] ppocr WARNING: The first GPU is used for inference by default, GPU ID: 0\n",
      "[2025/03/23 20:40:09] ppocr WARNING: The first GPU is used for inference by default, GPU ID: 0\n",
      "[2025/03/23 20:40:10] ppocr DEBUG: dt_boxes num : 8, elapsed : 0.04577231407165527\n",
      "[2025/03/23 20:40:10] ppocr DEBUG: cls num  : 8, elapsed : 0.03521084785461426\n",
      "[2025/03/23 20:40:10] ppocr DEBUG: rec_res num  : 8, elapsed : 0.09014177322387695\n"
     ]
    }
   ],
   "source": []
  },
  {
   "cell_type": "code",
   "execution_count": 98,
   "metadata": {},
   "outputs": [],
   "source": [
    "def match_boxes_within_distance(boxes, threshold=20):\n",
    "    # List to store the groups of matched boxes\n",
    "    matched_groups = []\n",
    "    \n",
    "    # Create a list to track the boxes already grouped\n",
    "    grouped = [False] * len(boxes)\n",
    "\n",
    "    # Loop through each box and compare ymin, ymax, and xmin\n",
    "    for i in range(len(boxes)):\n",
    "        if grouped[i]:  # Skip already grouped boxes\n",
    "            continue\n",
    "        \n",
    "        # Start a new group for the current box\n",
    "        group = [boxes[i]]\n",
    "        label1 = boxes[i][1]  # Label of box 1\n",
    "        box1 = boxes[i][0]  # Coordinates of box 1\n",
    "\n",
    "        ymin1 = min([point[1] for point in box1])  # Find ymin for box 1\n",
    "        ymax1 = max([point[1] for point in box1])  # Find ymax for box 1\n",
    "        \n",
    "        for j in range(i + 1, len(boxes)):\n",
    "            if grouped[j]:  # Skip already grouped boxes\n",
    "                continue\n",
    "            box2 = boxes[j][0]  # Coordinates of box 2\n",
    "            label2 = boxes[j][1]  # Label of box 2    \n",
    "            ymin2 = min([point[1] for point in box2])  # Find ymin for box 2\n",
    "            ymax2 = max([point[1] for point in box2])  # Find ymax for box 2\n",
    "            \n",
    "            if abs(ymin1 - ymin2) < threshold or abs(ymax1 - ymax2) < threshold:\n",
    "                group.append(boxes[j])\n",
    "                grouped[j] = True\n",
    "\n",
    "        group.sort(key=lambda box: min([point[0] for point in box[0]]))  # Sort by xmin\n",
    "        line = [box[1][0] for box in group]\n",
    "        matched_groups.append(line)\n",
    "\n",
    "    return matched_groups\n"
   ]
  },
  {
   "cell_type": "code",
   "execution_count": null,
   "metadata": {},
   "outputs": [],
   "source": [
    "from paddleocr import PaddleOCR\n",
    "import paddle\n",
    "\n",
    "# Initialize PaddleOCR (English by default)\n",
    "ocr = PaddleOCR(\n",
    "    use_angle_cls=True,\n",
    "    lang='pl',\n",
    "    det_db_box_thresh=0.3,\n",
    "    det_db_unclip_ratio=2.5,\n",
    "    rec_algorithm='CRNN',\n",
    "    rec_batch_num=6,\n",
    "    use_space_char=True,\n",
    ")  # need to specify use_angle_cls=True if you want to detect rotated text\n",
    "\n",
    "# Path to your image\n",
    "img_path = '/home/miza/Magisterka/src/data/images/1.jpg'\n",
    "\n",
    "# Run OCR\n",
    "result = ocr.ocr(\n",
    "    img_path,\n",
    "    cls=True,\n",
    ")\n",
    "\n",
    "matched_boxes = match_boxes_within_distance(result[0])"
   ]
  },
  {
   "cell_type": "code",
   "execution_count": 102,
   "metadata": {},
   "outputs": [
    {
     "data": {
      "text/plain": [
       "[['SALATKAJARZY250g-D', '1szt.x4,504,500'],\n",
       " ['JOG ALE PITNY 290g-D', '1szt.x3.603.600'],\n",
       " ['KAJZERKA PREM 60g-D', '1szt.x0,490,490'],\n",
       " ['KAJZERKA PREM 60q-D', '1szt.x0,490,490']]"
      ]
     },
     "execution_count": 102,
     "metadata": {},
     "output_type": "execute_result"
    }
   ],
   "source": [
    "matched_boxes"
   ]
  },
  {
   "cell_type": "code",
   "execution_count": null,
   "metadata": {},
   "outputs": [],
   "source": []
  }
 ],
 "metadata": {
  "kernelspec": {
   "display_name": ".venv",
   "language": "python",
   "name": "python3"
  },
  "language_info": {
   "codemirror_mode": {
    "name": "ipython",
    "version": 3
   },
   "file_extension": ".py",
   "mimetype": "text/x-python",
   "name": "python",
   "nbconvert_exporter": "python",
   "pygments_lexer": "ipython3",
   "version": "3.12.3"
  }
 },
 "nbformat": 4,
 "nbformat_minor": 2
}
