{
 "cells": [
  {
   "cell_type": "code",
   "execution_count": 2,
   "metadata": {},
   "outputs": [],
   "source": [
    "import easyocr"
   ]
  },
  {
   "cell_type": "code",
   "execution_count": 3,
   "metadata": {},
   "outputs": [],
   "source": [
    "reader = easyocr.Reader([\"pl\"]) "
   ]
  },
  {
   "cell_type": "code",
   "execution_count": 7,
   "metadata": {},
   "outputs": [
    {
     "name": "stdout",
     "output_type": "stream",
     "text": [
      "Project root set to: /home/miza/Magisterka/src\n"
     ]
    }
   ],
   "source": [
    "import sys\n",
    "import os\n",
    "\n",
    "# Get the absolute path of the project root\n",
    "PROJECT_ROOT = os.path.abspath(os.path.join(os.getcwd(), \"..\"))\n",
    "\n",
    "# Add it to sys.path\n",
    "sys.path.append(PROJECT_ROOT)\n",
    "\n",
    "print(f\"Project root set to: {PROJECT_ROOT}\")\n"
   ]
  },
  {
   "cell_type": "code",
   "execution_count": null,
   "metadata": {},
   "outputs": [],
   "source": [
    "from utils.utils import get_text, load_image\n",
    "result = reader.readtext('/home/miza/Magisterka/src/data/images/1.jpg', detail=1,)"
   ]
  },
  {
   "cell_type": "code",
   "execution_count": 63,
   "metadata": {},
   "outputs": [
    {
     "data": {
      "text/plain": [
       "np.int32(8)"
      ]
     },
     "execution_count": 63,
     "metadata": {},
     "output_type": "execute_result"
    }
   ],
   "source": [
    "result[0][0][0][1]"
   ]
  },
  {
   "cell_type": "code",
   "execution_count": null,
   "metadata": {},
   "outputs": [
    {
     "name": "stdout",
     "output_type": "stream",
     "text": [
      "0\n",
      "y1: 8 y2: 7\n",
      "1\n",
      "y1: 7 y2: 2\n",
      "2\n",
      "y1: 2 y2: 0\n",
      "3\n",
      "y1: 0 y2: 70\n",
      "SALATKA JARZY 2509-0Isztx4,50\n",
      "5\n",
      "y1: 71 y2: 63\n",
      "6\n",
      "y1: 63 y2: 133\n",
      "Jog ALE PITNY 2909-0Iszt\n",
      "8\n",
      "y1: 135 y2: 129\n",
      "9\n",
      "y1: 129 y2: 197\n",
      "KAJZERKA PREH 609-0Iszt\n",
      "11\n",
      "y1: 199 y2: 197\n",
      "12\n",
      "y1: 197 y2: 195\n"
     ]
    }
   ],
   "source": [
    "i=0\n",
    "r=result[0][1]\n",
    "while i < len(result)-1:\n",
    "    print(i)\n",
    "    print(f\"y1: {result[i][0][0][1]} y2: {result[i+1][0][0][1]}\")\n",
    "    if abs(result[i][0][0][1] - result[i+1][0][0][1]) < 20:\n",
    "        r=r+result[i][1]\n",
    "    else:\n",
    "        print(r)\n",
    "        r=result[i+1][1]\n",
    "        i+=1\n",
    "    i+=1\n"
   ]
  },
  {
   "cell_type": "code",
   "execution_count": 125,
   "metadata": {},
   "outputs": [
    {
     "data": {
      "text/plain": [
       "([[np.int32(1194), np.int32(63)],\n",
       "  [np.int32(1495), np.int32(63)],\n",
       "  [np.int32(1495), np.int32(140)],\n",
       "  [np.int32(1194), np.int32(140)]],\n",
       " 'x3,60 3,600',\n",
       " np.float64(0.8966508428212882))"
      ]
     },
     "execution_count": 125,
     "metadata": {},
     "output_type": "execute_result"
    }
   ],
   "source": [
    "result[6]"
   ]
  },
  {
   "cell_type": "code",
   "execution_count": null,
   "metadata": {},
   "outputs": [],
   "source": []
  }
 ],
 "metadata": {
  "kernelspec": {
   "display_name": ".venv",
   "language": "python",
   "name": "python3"
  },
  "language_info": {
   "codemirror_mode": {
    "name": "ipython",
    "version": 3
   },
   "file_extension": ".py",
   "mimetype": "text/x-python",
   "name": "python",
   "nbconvert_exporter": "python",
   "pygments_lexer": "ipython3",
   "version": "3.12.3"
  }
 },
 "nbformat": 4,
 "nbformat_minor": 2
}
